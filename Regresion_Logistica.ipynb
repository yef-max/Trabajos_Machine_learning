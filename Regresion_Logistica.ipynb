{
  "nbformat": 4,
  "nbformat_minor": 0,
  "metadata": {
    "colab": {
      "provenance": [],
      "include_colab_link": true
    },
    "kernelspec": {
      "name": "python3",
      "display_name": "Python 3"
    },
    "language_info": {
      "name": "python"
    }
  },
  "cells": [
    {
      "cell_type": "markdown",
      "metadata": {
        "id": "view-in-github",
        "colab_type": "text"
      },
      "source": [
        "<a href=\"https://colab.research.google.com/github/yef-max/Trabajos_Machine_learning/blob/patch-1/Regresion_Logistica.ipynb\" target=\"_parent\"><img src=\"https://colab.research.google.com/assets/colab-badge.svg\" alt=\"Open In Colab\"/></a>"
      ]
    },
    {
      "cell_type": "markdown",
      "source": [
        "# **Regresión Logística**"
      ],
      "metadata": {
        "id": "bVi8YIGUbr10"
      }
    },
    {
      "cell_type": "markdown",
      "source": [
        "# *Introducción*\n",
        "\n",
        "El objetivo de este ejercicio es trabajar con librerías de Python para manejar el modelo de regresión logística, donde se observara el código, y la explicación de las líneas, ademásde sus respectivas conclusiones.\n",
        "\n",
        "---"
      ],
      "metadata": {
        "id": "goymmQfBbyjG"
      }
    },
    {
      "cell_type": "markdown",
      "source": [
        "# *Descripción:*\n",
        "\n",
        "Área: *Automotriz*\n",
        "\n",
        "En el ejercicio propuesto vamos a ver la relación."
      ],
      "metadata": {
        "id": "ZWxqS8q_b2fM"
      }
    }
  ]
}